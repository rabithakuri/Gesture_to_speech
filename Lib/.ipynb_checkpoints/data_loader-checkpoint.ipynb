{
 "cells": [
  {
   "cell_type": "code",
   "execution_count": null,
   "metadata": {},
   "outputs": [],
   "source": [
    "import pandas as pd\n",
    "import numpy as np"
   ]
  },
  {
   "cell_type": "code",
   "execution_count": 1,
   "metadata": {},
   "outputs": [
    {
     "ename": "IndentationError",
     "evalue": "unexpected indent (<ipython-input-1-1c0cc9b02255>, line 3)",
     "output_type": "error",
     "traceback": [
      "\u001b[1;36m  File \u001b[1;32m\"<ipython-input-1-1c0cc9b02255>\"\u001b[1;36m, line \u001b[1;32m3\u001b[0m\n\u001b[1;33m    path_videos\u001b[0m\n\u001b[1;37m    ^\u001b[0m\n\u001b[1;31mIndentationError\u001b[0m\u001b[1;31m:\u001b[0m unexpected indent\n"
     ]
    }
   ],
   "source": [
    "#     path_videos\n",
    "#     path_labels\n",
    "#     path_train\n",
    "#     path_validation\n",
    "#     path_test\n",
    "class DataLoader():\n",
    "    def __init__(self, path_vid, path_labels, path_train=None, path_val=None, path_test=None):\n",
    "        self.path_vid= path_vid\n",
    "        self.path_labels= path_labels\n",
    "        self.path_train= path_train\n",
    "        self.path_val= path_val\n",
    "        self.path_test= path_test\n",
    "        \n",
    "        self.get_labels(path_labels)\n",
    "        \n",
    "        if self.path_train:\n",
    "            self.train_df = self.load_video_labels(self.path_train)\n",
    "        if self.path_val:\n",
    "            self.val_df = self.load_video_labels(self.path_val)\n",
    "        if self.path_test: \n",
    "            self.test_df = self.load_video_labels(self.path_test, mode=\"input\")\n",
    "        \n",
    "    def get_labels(self, path_labels):\n",
    "        self.labels_df = pd.read_csv(path_labels,names=['label'])\n",
    "        #extract labels from dataframes\n",
    "        self.labels = [str(label[0]) fpr label in self.labels_df.values]\n",
    "        self.n_labels = len(self.labels)\n",
    "        #create dict to convert label to int and backwards\n",
    "        self.label_to_int = dict(zip(self.labels, range(self.n_labels)))\n",
    "        self.ini_to_labels = dict(enumerate(self.labels))\n",
    "        \n",
    "        \n",
    "    def load_video_labels(self, path_subset, mode=\"label\"):\n",
    "        if mode == \"input\":\n",
    "            names=[\"video_id\"]\n",
    "        elif mode == \"label\":\n",
    "            names = [\"video_id\",\"label\"]\n",
    "            \n",
    "        df = pd.read_csv(path_subset, sep=';', names=names)\n",
    "           \n",
    "        if mode == 'label':\n",
    "            df = df[df.label.isin(self.labels)]\n",
    "        return df\n",
    "    \n",
    "#     def categorical_to_label():"
   ]
  }
 ],
 "metadata": {
  "kernelspec": {
   "display_name": "GestureRecognition",
   "language": "python",
   "name": "gesturerecognition"
  },
  "language_info": {
   "codemirror_mode": {
    "name": "ipython",
    "version": 3
   },
   "file_extension": ".py",
   "mimetype": "text/x-python",
   "name": "python",
   "nbconvert_exporter": "python",
   "pygments_lexer": "ipython3",
   "version": "3.7.9"
  }
 },
 "nbformat": 4,
 "nbformat_minor": 4
}
