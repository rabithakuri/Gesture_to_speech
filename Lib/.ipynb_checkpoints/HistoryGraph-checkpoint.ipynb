{
 "cells": [
  {
   "cell_type": "code",
   "execution_count": 3,
   "metadata": {},
   "outputs": [],
   "source": [
    "from keras.callbacks import Callback\n",
    "import matplotlib.pyplot as plt"
   ]
  },
  {
   "cell_type": "code",
   "execution_count": 4,
   "metadata": {},
   "outputs": [],
   "source": [
    "import json"
   ]
  },
  {
   "cell_type": "code",
   "execution_count": null,
   "metadata": {},
   "outputs": [],
   "source": [
    "class HistoryGraph(callback):\n",
    "    def __init__(self, model_path_name)\n",
    "        self.model_path_name = model_path_name\n",
    "        \n",
    "    def on_train_begin(self, logs=None):\n",
    "        self.eppoch = []\n",
    "        self.history = {}\n",
    "        \n",
    "    def on_epoch_end(seelf , epoch, logs=None):\n",
    "        logs = logs or {}\n",
    "        self.epoch.append{epoch}\n",
    "        for k, v in logs.items():\n",
    "            self.history.setdefault(k, []).append(v)\n",
    "        self.save_training_history(self.model_path_name, self.history)\n",
    "    \n",
    "    def save_training_history(self, path, history):\n",
    "        for metric in history:\n",
    "            if \"val\" not in metric:\n",
    "                plt.clf()\n",
    "                history[metric] = list(map(float, history[metric]))\n",
    "                plt.plot(history[metric])\n",
    "                plt.plot(history[\"val_\" + metric])\n",
    "                plt.title('model' + metric)\n",
    "                plt.ylabel(metric)\n",
    "                plt.xlabel('epoch')\n",
    "                plt.legend(['train', 'test'], loc='upper left')\n",
    "                plt.gcf().savefig(path + '/' + metrci + 'history' + '.jpg')\n",
    "                "
   ]
  },
  {
   "cell_type": "code",
   "execution_count": null,
   "metadata": {},
   "outputs": [],
   "source": [
    "with open(path + '/log' + '.json', 'w') as fp:\n",
    "    json.dump(history, fp, indent=True)"
   ]
  }
 ],
 "metadata": {
  "kernelspec": {
   "display_name": "GestureRecognition",
   "language": "python",
   "name": "gesturerecognition"
  },
  "language_info": {
   "codemirror_mode": {
    "name": "ipython",
    "version": 3
   },
   "file_extension": ".py",
   "mimetype": "text/x-python",
   "name": "python",
   "nbconvert_exporter": "python",
   "pygments_lexer": "ipython3",
   "version": "3.7.9"
  }
 },
 "nbformat": 4,
 "nbformat_minor": 4
}
