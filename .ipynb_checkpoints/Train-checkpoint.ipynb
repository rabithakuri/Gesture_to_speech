{
 "cells": [
  {
   "cell_type": "code",
   "execution_count": null,
   "metadata": {},
   "outputs": [],
   "source": [
    "from Lib.data_loader import DataLoader\n",
    "from Lib.resnet_model import Resnet3DBuilder\n",
    "from Lib.HistoryGraph import HistoryGraph\n",
    "import Lib.image as img\n",
    "from Lib.utils import mkdirs\n",
    "import os"
   ]
  },
  {
   "cell_type": "code",
   "execution_count": null,
   "metadata": {},
   "outputs": [],
   "source": [
    "from math import ceil"
   ]
  },
  {
   "cell_type": "code",
   "execution_count": null,
   "metadata": {},
   "outputs": [],
   "source": [
    "from keras.optimizers import SGD"
   ]
  },
  {
   "cell_type": "code",
   "execution_count": null,
   "metadata": {},
   "outputs": [],
   "source": [
    "from keras.callbacks import ModelCheckpoint"
   ]
  },
  {
   "cell_type": "code",
   "execution_count": null,
   "metadata": {},
   "outputs": [],
   "source": [
    "target_size = (64,96)\n",
    "nb_frames = 16\n",
    "skip = 1\n",
    "nb_classes = 27\n",
    "batch_size = 64\n",
    "input_shape = (nb_frames,) + target_size + (3,)\n"
   ]
  },
  {
   "cell_type": "code",
   "execution_count": null,
   "metadata": {},
   "outputs": [],
   "source": [
    "workers = 8\n",
    "use_miltiprocessing = False\n",
    "max_queue_size = 20\n"
   ]
  },
  {
   "cell_type": "code",
   "execution_count": null,
   "metadata": {},
   "outputs": [],
   "source": [
    "data_root = r\"D:\\Gesture_Recognition_project\\dataset\"\n",
    "csv_labels = r\"D:\\Gesture_Recognition_project\\dataset\\jester-v1-labels.csv\"\n",
    "csv_train = r\"D:\\Gesture_Recognition_project\\dataset\\jester-v1-train.csv\"\n",
    "csv_val = r\"D:\\Gesture_Recognition_project\\dataset\\jester-v1-validation.csv\"\n",
    "csv_test = r\"D:\\Gesture_Recognition_project\\dataset\\jester-v1-test.csv\"\n",
    "data_vid = r\"D:\\Gesture_Recognition_project\\dataset\\20bn-jester-v1\"\n",
    "model_name = 'resent_3d_model'\n",
    "data_model = r\"D:\\Gesture_Recognition_project\\dataset\\model\""
   ]
  },
  {
   "cell_type": "code",
   "execution_count": null,
   "metadata": {},
   "outputs": [],
   "source": [
    "path_model = os.path.join(data_root, data_model, model_name)\n",
    "path_vid = os.path.join(data_root, data_vid)\n",
    "path_labels = os.path.join(data_root, csv_labels)\n",
    "path_train = os.path.join(data_root, csv_train)\n",
    "path_val = os.path.join(data_root, csv_val)\n",
    "path_test = os.path.join(data_root, csv_test)"
   ]
  },
  {
   "cell_type": "code",
   "execution_count": null,
   "metadata": {},
   "outputs": [],
   "source": [
    "data = DataLoader(path_vid, path_labels, path_train, path_val)\n",
    "mkdirs(path_model, 0o755)\n",
    "mkdirs(os.path.join(path_model, \"graphs\"), 0o755)"
   ]
  },
  {
   "cell_type": "code",
   "execution_count": null,
   "metadata": {},
   "outputs": [],
   "source": [
    "gen = img.ImageDataGenerator()\n",
    "gen_train = gen.flow_video_from_dataframe(data.train_df, path_vid, path_classes=path_labels, x_col='video_id', y_col='labels', target_size=target_size, batch_size=batch_size, nb_frames=nb_frames, skip=skip, has_ext=True)\n",
    "gen_val = gen.flow_video_from_dataframe(data.val_df, path_vid, path_classes=path_labels, x_col='video_id', y_col='labels', target_size=target_size, batch_size=batch_size, nb_frames=nb_frames, skip=skip, has_ext=True)"
   ]
  },
  {
   "cell_type": "code",
   "execution_count": null,
   "metadata": {},
   "outputs": [],
   "source": [
    "resnet_model = Resnet3DBuilder.build_resnet_101(input_shape, nb_classes, drop_rate=0.5)\n",
    "optimizer = SGD(lr=0.01, momentum=0.9, decay=0.0001, nesterov=False)\n",
    "resnet_model.compile(optimizer = optimizer, loss=\"categorical_crossentropy\", metrics=[\"accuracy\"])\n",
    "model_file = os.path.join(path_model, 'resnetmodel.hdf5')"
   ]
  },
  {
   "cell_type": "code",
   "execution_count": 12,
   "metadata": {},
   "outputs": [],
   "source": [
    "model_checkpointer = ModelCheckpoint(model_file, monitor='val_acc', verbose=1, save_best_only=True, mode='max')\n"
   ]
  },
  {
   "cell_type": "code",
   "execution_count": 13,
   "metadata": {},
   "outputs": [],
   "source": [
    "history_graph = HistoryGraph(model_path_name = os.path.join(path_model, \"graphs\"))"
   ]
  },
  {
   "cell_type": "code",
   "execution_count": 15,
   "metadata": {},
   "outputs": [],
   "source": [
    "nb_sample_train = data .train_df[\"video_id\"].size\n",
    "nb_sample_val = data.val_df[\"video_id\"].size"
   ]
  },
  {
   "cell_type": "code",
   "execution_count": null,
   "metadata": {},
   "outputs": [],
   "source": [
    "resnet_model.fit_generator(\n",
    "                generator = gen_train,\n",
    "                steps_per_epoch = ceil(nb_sample_frames/batch_size),\n",
    "                epochs = 100,\n",
    "                validation_data = gen_val,\n",
    "                calidation_steps = 30,\n",
    "                shuffle = True,\n",
    "                verbose = 1,\n",
    "                sorkers=wrokers,\n",
    "                max_queue_size = max_queue_size,\n",
    "                use_miltiprocessing = use_miltiprocessing,\n",
    "                callbacks = [model_checkpointer, history_graph]\n",
    ")"
   ]
  },
  {
   "cell_type": "code",
   "execution_count": null,
   "metadata": {},
   "outputs": [],
   "source": []
  },
  {
   "cell_type": "code",
   "execution_count": null,
   "metadata": {},
   "outputs": [],
   "source": []
  }
 ],
 "metadata": {
  "kernelspec": {
   "display_name": "GestureRecognition",
   "language": "python",
   "name": "gesturerecognition"
  },
  "language_info": {
   "codemirror_mode": {
    "name": "ipython",
    "version": 3
   },
   "file_extension": ".py",
   "mimetype": "text/x-python",
   "name": "python",
   "nbconvert_exporter": "python",
   "pygments_lexer": "ipython3",
   "version": "3.7.9"
  }
 },
 "nbformat": 4,
 "nbformat_minor": 4
}
